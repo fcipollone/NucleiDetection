{
 "cells": [
  {
   "cell_type": "code",
   "execution_count": 4,
   "metadata": {
    "collapsed": true
   },
   "outputs": [],
   "source": [
    "import os\n",
    "train_base = '../data/stage1_train'\n",
    "test_base = '../data/stage1_test'\n",
    "train_dirs = [os.path.join(train_base, d) for d in os.listdir(train_base) if os.path.isdir(os.path.join(train_base,d)) and 'images' in os.listdir(os.path.join(train_base,d))]\n",
    "test_dirs = [os.path.join(test_base, d) for d in os.listdir(test_base) if os.path.isdir(os.path.join(test_base,d)) and 'images' in os.listdir(os.path.join(test_base,d))]"
   ]
  },
  {
   "cell_type": "code",
   "execution_count": 5,
   "metadata": {
    "collapsed": true
   },
   "outputs": [],
   "source": [
    "from corpus.corpus import Corpus\n",
    "from corpus.images.example import Example\n",
    "train_corpus = Corpus([Example(ex_path) for ex_path in train_dirs])\n",
    "test_corpus = Corpus([Example(ex_path, masks_present=False) for ex_path in test_dirs])"
   ]
  },
  {
   "cell_type": "code",
   "execution_count": 6,
   "metadata": {},
   "outputs": [],
   "source": [
    "from predictors.dumb_predictor import DumbPredictor\n",
    "dp = DumbPredictor(train_corpus, test_corpus)\n",
    "dp.train()\n",
    "dp.predict()\n",
    "dp.write('subission.csv')"
   ]
  },
  {
   "cell_type": "code",
   "execution_count": null,
   "metadata": {
    "collapsed": true
   },
   "outputs": [],
   "source": []
  }
 ],
 "metadata": {
  "kernelspec": {
   "display_name": "Python 3",
   "language": "python",
   "name": "python3"
  },
  "language_info": {
   "codemirror_mode": {
    "name": "ipython",
    "version": 3
   },
   "file_extension": ".py",
   "mimetype": "text/x-python",
   "name": "python",
   "nbconvert_exporter": "python",
   "pygments_lexer": "ipython3",
   "version": "3.6.1"
  }
 },
 "nbformat": 4,
 "nbformat_minor": 2
}
