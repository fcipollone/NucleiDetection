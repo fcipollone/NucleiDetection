{
 "cells": [
  {
   "cell_type": "code",
   "execution_count": 1,
   "metadata": {
    "collapsed": true
   },
   "outputs": [],
   "source": [
    "import os"
   ]
  },
  {
   "cell_type": "code",
   "execution_count": 2,
   "metadata": {
    "collapsed": true
   },
   "outputs": [],
   "source": [
    "base = 'data/stage1_test'\n",
    "dirs = os.listdir(base)"
   ]
  },
  {
   "cell_type": "code",
   "execution_count": 3,
   "metadata": {},
   "outputs": [
    {
     "data": {
      "text/plain": [
       "['images']"
      ]
     },
     "execution_count": 3,
     "metadata": {},
     "output_type": "execute_result"
    }
   ],
   "source": [
    "os.listdir(os.path.join(base, dirs[0]))"
   ]
  },
  {
   "cell_type": "code",
   "execution_count": 4,
   "metadata": {},
   "outputs": [],
   "source": [
    "id_to_image = {}\n",
    "for el in dirs:\n",
    "    image_dir = os.path.join(base, el, 'images')\n",
    "    if not os.path.exists(image_dir):\n",
    "        continue\n",
    "    image_id = el\n",
    "    images = os.listdir(image_dir)\n",
    "    images = [os.path.join(image_dir, image) for image in images]\n",
    "\n",
    "    id_to_image[image_id] = {}\n",
    "    id_to_image[image_id]['images'] = images\n",
    "    "
   ]
  },
  {
   "cell_type": "code",
   "execution_count": 5,
   "metadata": {},
   "outputs": [
    {
     "data": {
      "text/plain": [
       "['data/stage1_test/0114f484a16c152baa2d82fdd43740880a762c93f436c8988ac461c5c9dbe7d5/images/0114f484a16c152baa2d82fdd43740880a762c93f436c8988ac461c5c9dbe7d5.png']"
      ]
     },
     "execution_count": 5,
     "metadata": {},
     "output_type": "execute_result"
    }
   ],
   "source": [
    "id_to_image[dirs[0]]['images']`"
   ]
  },
  {
   "cell_type": "code",
   "execution_count": 11,
   "metadata": {},
   "outputs": [
    {
     "name": "stdout",
     "output_type": "stream",
     "text": [
      "65\n"
     ]
    }
   ],
   "source": [
    "print (len([key for key in id_to_image.keys()]))"
   ]
  },
  {
   "cell_type": "code",
   "execution_count": 6,
   "metadata": {
    "collapsed": true
   },
   "outputs": [],
   "source": [
    "%matplotlib inline\n",
    "import matplotlib.pyplot as plt\n",
    "import matplotlib.image as mpimg\n",
    "import numpy as np"
   ]
  },
  {
   "cell_type": "markdown",
   "metadata": {
    "collapsed": true
   },
   "source": [
    "# Darkness\n"
   ]
  },
  {
   "cell_type": "code",
   "execution_count": 7,
   "metadata": {
    "collapsed": true
   },
   "outputs": [],
   "source": [
    "import sklearn\n",
    "from sklearn import mixture\n",
    "from sklearn import cluster\n",
    "class Example:\n",
    "    def __init__(self, image_path):\n",
    "        self.image_path = image_path\n",
    "        self.image_id = image_path.split('/')[-1].split('.')[0]\n",
    "        self.image = mpimg.imread(image_path)\n",
    "        self.image_shape = self.image.shape\n",
    "        self.gray_image = self.rgb2gray(self.image)\n",
    "\n",
    "    def rgb2gray(self, rgb):\n",
    "        return np.dot(rgb[...,:3], [0.299, 0.587, 0.114])\n",
    "    \n",
    "    def combine_masks(self, masks):\n",
    "        return np.sum(np.array([ mpimg.imread(mask) for mask in masks]), axis=0)\n",
    "    \n",
    "    def nuclei_vals(self):\n",
    "        flat_img = self.gray_image.reshape(-1)\n",
    "        flat_msk = self.combined_mask.reshape(-1).astype('bool')\n",
    "        return flat_img[flat_msk], flat_img[~flat_msk]\n",
    "        \n",
    "    def gaussian_mixture(self):\n",
    "        self.mm = sklearn.mixture.GaussianMixture(n_components=2,init_params = 'random', verbose=True)\n",
    "        self.mm.fit(self.gray_image.reshape(-1)[:, np.newaxis])\n",
    "        self.means = [mm.means_[0][0], mm.means_[1][0]]\n",
    "        print(self.means)\n",
    "        self.covariances = [mm.covariances_[0][0][0], mm.covariances_[1][0][0]]\n",
    "    \n",
    "    def kmeans(self):\n",
    "        self.km = sklearn.cluster.KMeans(n_clusters=2, random_state=0).fit(self.gray_image.reshape(-1)[:, np.newaxis])\n",
    "\n",
    "    def predict_kmeans(self):\n",
    "        self.predictions = self.km.predict(self.gray_image.reshape(-1)[:, np.newaxis])\n",
    "        if np.sum(self.predictions) > (len(self.predictions)/2.0):\n",
    "            self.predictions = -(self.predictions-1)\n",
    "        self.predictions = self.predictions.reshape(self.image_shape[:2])\n",
    "        return self.predictions\n",
    "    \n",
    "    def return_string_rep(self):\n",
    "        arr = []\n",
    "        pixel_num = 0\n",
    "        run_length = 0\n",
    "        for col in range(self.predictions.shape[1]):\n",
    "            for row in range(self.predictions.shape[0]):\n",
    "                pixel_num += 1\n",
    "                if self.predictions[row,col] == 1:\n",
    "                    run_length += 1\n",
    "                else:\n",
    "                    if run_length > 0:\n",
    "                        arr.append(str(pixel_num-run_length))\n",
    "                        arr.append(str(run_length))\n",
    "                        run_length = 0\n",
    "        return \" \".join(arr)\n",
    "    \n",
    "    def get_csv_line(self):\n",
    "        return self.image_id + ',' + self.return_string_rep()\n",
    "                    "
   ]
  },
  {
   "cell_type": "markdown",
   "metadata": {},
   "source": [
    "# Training and Testing"
   ]
  },
  {
   "cell_type": "code",
   "execution_count": 8,
   "metadata": {},
   "outputs": [],
   "source": [
    "training_examples = []\n",
    "keys = sorted([key for key in id_to_image.keys()])\n",
    "for key in keys:\n",
    "    training_examples.append(Example(id_to_image[key]['images'][0]))"
   ]
  },
  {
   "cell_type": "code",
   "execution_count": 9,
   "metadata": {},
   "outputs": [
    {
     "name": "stdout",
     "output_type": "stream",
     "text": [
      "0\n",
      "20\n",
      "40\n",
      "60\n"
     ]
    }
   ],
   "source": [
    "for i in range(len(training_examples)):\n",
    "    if i % 20 == 0:\n",
    "        print(i)\n",
    "    training_examples[i].kmeans()\n",
    "    training_examples[i].predict_kmeans()"
   ]
  },
  {
   "cell_type": "code",
   "execution_count": 12,
   "metadata": {},
   "outputs": [
    {
     "name": "stdout",
     "output_type": "stream",
     "text": [
      "65\n"
     ]
    }
   ],
   "source": [
    "print(len(training_examples))"
   ]
  },
  {
   "cell_type": "code",
   "execution_count": 14,
   "metadata": {},
   "outputs": [
    {
     "name": "stdout",
     "output_type": "stream",
     "text": [
      "0\n",
      "1\n",
      "2\n",
      "3\n",
      "4\n",
      "5\n",
      "6\n",
      "7\n",
      "8\n",
      "9\n",
      "10\n",
      "11\n",
      "12\n",
      "13\n",
      "14\n",
      "15\n",
      "16\n",
      "17\n",
      "18\n",
      "19\n",
      "20\n",
      "21\n",
      "22\n",
      "23\n",
      "24\n",
      "25\n",
      "26\n",
      "27\n",
      "28\n",
      "29\n",
      "30\n",
      "31\n",
      "32\n",
      "33\n",
      "34\n",
      "35\n",
      "36\n",
      "37\n",
      "38\n",
      "39\n",
      "40\n",
      "41\n",
      "42\n",
      "43\n",
      "44\n",
      "45\n",
      "46\n",
      "47\n",
      "48\n",
      "49\n",
      "50\n",
      "51\n",
      "52\n",
      "53\n",
      "54\n",
      "55\n",
      "56\n",
      "57\n",
      "58\n",
      "59\n",
      "60\n",
      "61\n",
      "62\n",
      "63\n",
      "64\n"
     ]
    }
   ],
   "source": [
    "f = open('submission.csv','w')\n",
    "f.write('ImageId,EncodedPixels\\n')\n",
    "for i in range(len(training_examples)):\n",
    "    print(i)\n",
    "    f.write(training_examples[i].get_csv_line())\n",
    "    f.write('\\n')"
   ]
  },
  {
   "cell_type": "code",
   "execution_count": 15,
   "metadata": {},
   "outputs": [
    {
     "name": "stdout",
     "output_type": "stream",
     "text": [
      "['0114f484a16c152baa2d82fdd43740880a762c93f436c8988ac461c5c9dbe7d5', '0999dab07b11bc85fb8464fc36c947fbd8b5d6ec49817361cb780659ca805eac', '0a849e0eb15faa8a6d7329c3dd66aabe9a294cccb52ed30a90c8ca99092ae732', '0e132f71c8b4875c3c2dd7a22997468a3e842b46aa9bd47cf7b0e8b7d63f0925', '0ed3555a4bd48046d3b63d8baf03a5aa97e523aa483aaa07459e7afa39fb96c6', '0f1f896d9ae5a04752d3239c690402c022db4d72c0d2c087d73380896f72c466', '1747f62148a919c8feb6d607faeebdf504b5e2ad42b6b1710b1189c37ebcdb2c', '17b9bf4356db24967c4677b8376ac38f826de73a88b93a8d73a8b452e399cdff', '1879f4f4f05e2bada0ffeb46c128b8df7a79b14c84f38c3e216a69653495153b', '191b2b2205f2f5cc9da04702c5d422bc249faf8bca1107af792da63cccfba829', '1962d0c5faf3e85cda80e0578e0cb7aca50826d781620e5c1c4cc586bc69f81a', '1cdbfee1951356e7b0a215073828695fe1ead5f8b1add119b6645d2fdc8d844e', '1d9eacb3161f1e2b45550389ecf7c535c7199c6b44b1c6a46303f7b965e508f1', '1ef68e93964c2d9230100c1347c328f6385a7bc027879dc3d4c055e6fe80cb3c', '259b35151d4a7a5ffdd7ab7f171b142db8cfe40beeee67277fac6adca4d042c4', '295682d9eb5acb5c1976a460c085734bfaf38482b0a3f02591c2bfdcd4128549', '31f1fbe85b8899258ea5bcf5f93f7ac8238660c386aeab40649c715bd2e38a0a', '336d3e4105766f8ad328a7ee9571e743f376f8cbcf6a969ca7e353fe3235c523', '38f5cfb55fc8b048e82a5c895b25fefae7a70c71ab9990c535d1030637bf6a1f', '3c4c675825f7509877bc10497f498c9a2e3433bf922bd870914a2eb21a54fd26', '432f367a4c5b5674de2e2977744d10289a064e5704b21af6607b4975be47c580', '43a71aeb641faa18742cb826772a8566c6c947d7050f9ab15459de6cc2b3b6af', '44afae184c89e6ba55985b4d341acc1ae1e8b6ef96312064e0e6e630e022b078', '4727d94c6a57ed484270fdd8bbc6e3d5f2f15d5476794a4e37a40f2309a091e2', '472b1c5ff988dadc209faea92499bc07f305208dbda29d16262b3d543ac91c71', '4be73d68f433869188fe5e7f09c7f681ed51003da6aa5d19ce368726d8e271ee', '4f949bd8d914bbfa06f40d6a0e2b5b75c38bf53dbcbafc48c97f105bee4f8fac', '505bc0a3928d8aef5ce441c5a611fdd32e1e8eccdc15cc3a52b88030acb50f81', '519dc0d672d1c295fc69b629af8721ccb1a1f136d1976685a68487e62547ffe0', '51c70bb8a299943b27f8b354571272692d8f2705036a1a9562156c76da5f025b', '52b267e20519174e3ce1e1994b5d677804b16bc670aa5f6ffb6344a0fdf63fde', '53df5150ee56253fe5bc91a9230d377bb21f1300f443ba45a758bcb01a15c0e4', '550450e4bff4036fd671decdc5d42fec23578198d6a2fd79179c4368b9d6da18', '5cee644e5ffbef1ba021c7f389b33bafd3b1841f04d3edd7922d5084c2c4e0c7', '648c8ffa496e1716017906d0bf135debfc93386ae86aa3d4adbda9a505985fd9', '697a05c6fe4a07c601d46da80885645ad574ea19b47ee795ccff216c9f1f1808', '699f2992cd71e2e28cf45f81347ff22e76b37541ce88087742884cd0e9aadc68', '78a981bd27ba0c65a9169548665a17bda9f49050d0d3893a6567d1eb92cd003d', '7bdb668e6127b7eafc837a883f0648002bd063c736f55a4f673e787250a3fb04', '7f4cbe0b36b5d09466476a7d4e01f4f976c67872d549f4ff47b3e1e3a2b403af', '8922a6ac8fd0258ec27738ca101867169b20d90a60fc84f93df77acd5bf7c80b', '8b59819fbc92eefe45b1db95c0cc3a467ddcfc755684c7f2ba2f6ccb9ad740ab', '912a679e4b9b1d1a75170254fd675b8c24b664d80ad7ea7e460241a23535a406', '9ab2d381f90b485a68b82bc07f94397a0373e3215ad20935a958738e55f3cfc2', '9f17aea854db13015d19b34cb2022cfdeda44133323fcd6bb3545f7b9404d8ab', 'a4816cc1fb76cb3c5e481186833fc0ae9cf426a1406a2607e974e65e9cddba4f', 'a984e7fb886aa02e29d112766d3ce26a4f78eac540ce7bbdbd42af2761928f6d', 'ab298b962a63e4be9582513aaa84a5e270adba5fd2b16a50e59540524f63c3b8', 'ade080c6618cbbb0a25680cf847f312b5e19b22bfe1cafec0436987ebe5b1e7e', 'b83d1d77935b6cfd44105b54600ffc4b6bd82de57dec65571bcb117fa8398ba3', 'bdc789019cee8ddfae20d5f769299993b4b330b2d38d1218646cf89e77fbbd4d', 'c8e79ff4ac55f4b772057de28e539727b7f4f2a3de73bf7a082a0ace86d609eb', 'ca20076870e8fb604e61802605a9ac45419c82dd3e23404c56c4869f9502a5ef', 'd616d323a9eeb9da1b66f8d5df671d63c092c9919cb2c0b223e29c63257c944d', 'd6eb7ce7723e2f6dc13b90b41a29ded27dbd815bad633fdf582447c686018896', 'd8d4bf68a76e4e4c5f21de7ac613451f7115a04db686151e78b8ec0b6a22022b', 'da6c593410340b19bb212b9f6d274f95b08c0fc8f2570cd66bc5ed42c560acab', 'dab46d798d29aff2e99c23f47ed3064f5cafb1644629b015c95a2dd2ee593bb4', 'df40099c6306ca1f47fcc8a62e2fa39486d4e223177afdc51b2ad189691802d8', 'e17b7aedd251a016c01ef9158e6e4aa940d9f1b35942d86028dc1222192a9258', 'eea70a7948d25a9a791dbcb39228af4ea4049fe5ebdee9c04884be8cca3da835', 'f0d0ab13ff53adc3c4d57e95a5f83d80b06f2cbc0bf002b52cf7b496612e0ce4', 'f5effed21f671bbf4551ecebb7fe95f3be1cf09c16a60afe64d2f0b95be9d1eb', 'fac507fa4d1649e8b24c195d990f1fc3ca3633d917839e1751a9d412a14ab5e3', 'fe9adb627a6f45747c5a8223b671774791ededf9364f6544be487c540107fa4f']\n"
     ]
    }
   ],
   "source": [
    "print(keys)"
   ]
  },
  {
   "cell_type": "code",
   "execution_count": 18,
   "metadata": {},
   "outputs": [
    {
     "data": {
      "text/plain": [
       "'fac507fa4d1649e8b24c195d990f1fc3ca3633d917839e1751a9d412a14ab5e3,68 7 321 8 576 9 832 9 1088 9 1344 9 1599 10 1855 10 2112 8 2367 9 2623 1 2629 2 15108 1 15363 5 15619 5 15873 8 16129 8 16364 5 16385 8 16619 7 16641 8 16875 5 16897 8 16937 9 17131 6 17153 8 17192 11 17385 8 17409 8 17448 11 17640 9 17665 4 17704 10 17896 9 17921 3 17960 10 18152 10 18216 10 18408 10 18472 10 18664 11 18689 3 18729 8 18922 9 18945 3 18985 8 19178 8 19201 3 19242 6 19435 1 19439 2 19457 3 19499 3 19713 5 19969 5 20225 5 20481 5 20737 5 20993 4 21249 4 21506 1 23561 1 23815 6 24069 9 24323 11 24579 12 24835 12 25091 11 25348 10 25605 8 25861 6 26118 4 26375 1 31719 4 31780 4 31974 5 32035 6 32229 8 32256 1 32291 8 32484 11 32510 3 32546 9 32740 10 32765 4 32802 10 32996 11 33021 4 33058 10 33252 10 33267 3 33277 4 33315 9 33508 8 33523 5 33533 4 33572 8 33765 6 33775 9 33789 4 33828 8 34023 3 34031 11 34046 3 34084 7 34287 11 34302 3 34344 1 34543 12 34559 2 34799 11 35055 11 35311 10 35569 5 35575 2 35826 1 38970 4 39225 7 39239 5 39480 8 39491 2 39494 7 39505 1 39736 8 39746 2 39749 9 39760 7 39992 10 40004 10 40015 9 40249 8 40259 21 40505 8 40517 20 40762 7 40773 19 41019 4 41030 1 41032 16 41290 13 41550 8 41808 5 43115 3 43369 7 43625 8 43880 10 44136 10 44393 9 44649 10 44906 9 45162 9 45419 8 45676 7 45933 5 46190 3 46595 6 46850 8 46888 4 47106 8 47143 7 47230 2 47361 10 47398 9 47480 3 47485 4 47617 10 47654 10 47735 11 47873 10 47910 11 47991 12 48129 9 48166 11 48247 12 48386 7 48422 11 48503 13 48644 5 48678 11 48762 10 48902 3 48934 11 49019 9 49191 9 49274 11 49409 2 49447 8 49530 11 49665 2 49707 2 49786 11 49921 3 50043 10 50155 3 50177 3 50300 9 50409 6 50419 5 50433 4 50557 8 50664 7 50674 7 50689 4 50813 7 50919 8 50930 7 50945 5 51070 6 51167 1 51174 9 51185 8 51201 6 51328 2 51421 4 51427 1 51430 9 51440 9 51457 6 51676 6 51683 1 51686 9 51696 9 51713 7 51932 7 51942 9 51952 9 51969 7 52188 9 52198 8 52211 4 52225 7 52445 17 52481 7 52701 17 52737 7 52958 15 52993 7 53214 15 53249 8 53472 12 53505 8 53729 2 53735 4 53761 8 53863 2 53984 3 54017 8 54118 5 54240 2 54273 9 54374 6 54529 9 54629 8 54785 9 54885 9 55041 9 55141 9 55297 1 55299 7 55397 10 55556 4 55654 9 55911 7 56161 3 56169 4 56416 5 56426 2 56671 8 56925 10 57180 12 57436 11 57692 11 57948 11 58204 10 58461 8 58683 4 58718 5 58937 7 59193 8 59205 8 59448 9 59460 9 59704 9 59716 10 59937 1 59960 9 59971 11 60189 1 60191 3 60216 9 60227 11 60444 9 60472 7 60483 11 60700 8 60728 6 60739 11 60956 9 60985 5 60996 10 61212 9 61242 2 61252 9 61467 9 61509 7 61722 10 61766 5 61979 1 61981 7 62084 1 62239 4 62337 7 62496 3 62593 9 62850 8 63004 2 63106 8 63257 6 63362 8 63512 7 63521 2 63617 9 63768 11 63873 9 64024 8 64129 9 64279 10 64386 7 64535 10 64643 1 64792 9 65048 6 65307 3'"
      ]
     },
     "execution_count": 18,
     "metadata": {},
     "output_type": "execute_result"
    }
   ],
   "source": [
    "training_examples[-2].get_csv_line()"
   ]
  },
  {
   "cell_type": "code",
   "execution_count": null,
   "metadata": {
    "collapsed": true
   },
   "outputs": [],
   "source": []
  }
 ],
 "metadata": {
  "kernelspec": {
   "display_name": "Python 3",
   "language": "python",
   "name": "python3"
  },
  "language_info": {
   "codemirror_mode": {
    "name": "ipython",
    "version": 3
   },
   "file_extension": ".py",
   "mimetype": "text/x-python",
   "name": "python",
   "nbconvert_exporter": "python",
   "pygments_lexer": "ipython3",
   "version": "3.6.1"
  }
 },
 "nbformat": 4,
 "nbformat_minor": 2
}
